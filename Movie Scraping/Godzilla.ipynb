{
 "cells": [
  {
   "cell_type": "markdown",
   "metadata": {},
   "source": [
    "### Import Libraries"
   ]
  },
  {
   "cell_type": "code",
   "execution_count": 1,
   "metadata": {},
   "outputs": [],
   "source": [
    "from bs4 import BeautifulSoup as bs\n",
    "import requests"
   ]
  },
  {
   "cell_type": "markdown",
   "metadata": {},
   "source": [
    "### Get the wiki page for Godzilla Franchise"
   ]
  },
  {
   "cell_type": "code",
   "execution_count": 2,
   "metadata": {},
   "outputs": [],
   "source": [
    "wiki_address = \"https://en.wikipedia.org\"\n",
    "godzilla_address = wiki_address + \"/wiki/Godzilla_(franchise)\"\n",
    "r = requests.get(godzilla_address)\n",
    "\n",
    "# Convert to beautiful soup object\n",
    "soup = bs(r.content)"
   ]
  },
  {
   "cell_type": "code",
   "execution_count": 3,
   "metadata": {},
   "outputs": [],
   "source": [
    "info_box = soup.find(class_=\"infobox vevent\")\n",
    "info_rows = info_box.find_all(\"tr\")"
   ]
  },
  {
   "cell_type": "code",
   "execution_count": 4,
   "metadata": {},
   "outputs": [],
   "source": [
    "def get_subsect(main_row):\n",
    "    sub_rows = main_row.find_all(\"li\")\n",
    "    subsect_list = []\n",
    "    for row in sub_rows:\n",
    "        row_text = row.find(class_=\"toctext\").get_text()\n",
    "        if row.find(\"ul\"):\n",
    "            subsect_list.append(row_text + \":\")\n",
    "            subsect_list.append(get_subsect(row))\n",
    "        else:\n",
    "            subsect_list.append(row_text)\n",
    "    return subsect_list\n",
    "\n",
    "def get_linked_content(address):\n",
    "    r_c = requests.get(address)\n",
    "    soup_c = bs(r_c.content)\n",
    "    \n",
    "    toc = soup_c.find(class_=\"toc\").find(\"ul\")\n",
    "    toc_rows = toc.find_all(\"li\")\n",
    "\n",
    "    content_list = []\n",
    "    for row in toc_rows:\n",
    "        row_text = row.find(class_=\"toctext\").get_text()\n",
    "        if row_text == 'See also':\n",
    "            break\n",
    "        if row.find(\"ul\"):\n",
    "            content_list.append(row_text + \":\")\n",
    "            content_list.append(get_subsect(row))\n",
    "            continue\n",
    "\n",
    "        content_list.append(row_text)\n",
    "\n",
    "    return content_list\n",
    "\n",
    "def get_movie_value(row):\n",
    "    row_text = row.find(\"td\").get_text()\n",
    "    if \"Full list\" in row_text:\n",
    "        content_address = wiki_address + row.find(href = True)['href']\n",
    "        return get_linked_content(content_address)\n",
    "    elif row.find(\"li\"):\n",
    "        return [li.get_text() for li in row.find_all(\"li\")]\n",
    "    else:\n",
    "        return row_text\n",
    "\n",
    "movie_info = {}\n",
    "\n",
    "for index, row in enumerate(info_rows):\n",
    "    if index == 0:\n",
    "        movie_info[\"Title\"] = row.find(\"th\").get_text()\n",
    "    elif index == 1:\n",
    "        continue\n",
    "    else:\n",
    "        try:\n",
    "            movie_key = row.find(\"th\").get_text()\n",
    "            movie_value = get_movie_value(row)\n",
    "            movie_info[movie_key] = movie_value\n",
    "        except:\n",
    "            continue"
   ]
  },
  {
   "cell_type": "code",
   "execution_count": 6,
   "metadata": {},
   "outputs": [],
   "source": [
    "import json\n",
    "  \n",
    "with open(\"Godzilla.txt\", 'w') as f: \n",
    "    for key, value in movie_info.items(): \n",
    "        f.write('%s: %s\\n' % (key, value))"
   ]
  }
 ],
 "metadata": {
  "interpreter": {
   "hash": "a6ee3df190db0cf4ce9d66d444f586cbb95e12f7ba56dc797574d97011af8020"
  },
  "kernelspec": {
   "display_name": "Python 3.9.7 ('base')",
   "language": "python",
   "name": "python3"
  },
  "language_info": {
   "codemirror_mode": {
    "name": "ipython",
    "version": 3
   },
   "file_extension": ".py",
   "mimetype": "text/x-python",
   "name": "python",
   "nbconvert_exporter": "python",
   "pygments_lexer": "ipython3",
   "version": "3.9.7"
  },
  "orig_nbformat": 4
 },
 "nbformat": 4,
 "nbformat_minor": 2
}
