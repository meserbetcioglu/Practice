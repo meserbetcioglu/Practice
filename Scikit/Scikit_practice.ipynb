{
 "cells": [
  {
   "cell_type": "markdown",
   "metadata": {},
   "source": [
    "### Review class"
   ]
  },
  {
   "cell_type": "code",
   "execution_count": 191,
   "metadata": {},
   "outputs": [],
   "source": [
    "import random\n",
    "\n",
    "class Sentiment:\n",
    "    NEGATIVE = \"NEGATIVE\"\n",
    "    NEUTRAL = \"NEUTRAL\"\n",
    "    POSITIVE = \"POSITIVE\"\n",
    "\n",
    "class Review:\n",
    "    def __init__(self, text, score):\n",
    "        self.text = text\n",
    "        self.score = score\n",
    "        self.sentiment = self.get_sentiment(score)\n",
    "\n",
    "    def get_sentiment(self, score):\n",
    "        if self.score <= 2:\n",
    "            return Sentiment.NEGATIVE\n",
    "        elif self.score == 3:\n",
    "            return Sentiment.NEUTRAL\n",
    "        else:\n",
    "            return Sentiment.POSITIVE\n",
    "\n",
    "class Review_Container:\n",
    "    def __init__(self, reviews):\n",
    "        self.reviews = reviews\n",
    "\n",
    "    def evenly_distribute(self):\n",
    "        random.shuffle(self.reviews)\n",
    "\n",
    "        negative = list(filter(lambda x: x.sentiment == Sentiment.NEGATIVE, self.reviews))\n",
    "        # neutral = list(filter(lambda x: x.sentiment == Sentiment.NEUTRAL, self.reviews))\n",
    "        positive = list(filter(lambda x: x.sentiment == Sentiment.POSITIVE, self.reviews))\n",
    "        \n",
    "        min_len = min(len(negative), \n",
    "        # len(neutral), \n",
    "        len(positive))\n",
    "        negative_shrunk = negative[:min_len]\n",
    "        # neutral_shrunk = neutral[:min_len]\n",
    "        positive_shrunk = positive[:min_len]\n",
    "\n",
    "        self.reviews = negative_shrunk + positive_shrunk \n",
    "        # + neutral_shrunk \n",
    "\n",
    "        random.shuffle(self.reviews)\n",
    "\n",
    "    def get_text(self):\n",
    "        return [x.text for x in self.reviews]\n",
    "\n",
    "    def get_sentiment(self):\n",
    "        return [x.sentiment for x in self.reviews]\n"
   ]
  },
  {
   "cell_type": "markdown",
   "metadata": {},
   "source": [
    "### Load data"
   ]
  },
  {
   "cell_type": "code",
   "execution_count": 192,
   "metadata": {},
   "outputs": [
    {
     "data": {
      "text/plain": [
       "'I love Nicholas Sparks. I&#8217;ve read everything he&#8217;s written and couldn&#8217;t wait for my copy of Safe Haven to arrive.Safe Haven had a different feel than many of Nicholas Sparks books. It was much less sappy than most of his books. Don&#8217;t get me wrong&#8230; I love sappy but this book was much deeper than many of his other books. It explored life in an abusive relationship and the struggle to escape and start over.I felt a connection to the characters and never lost interest in the story. The audio narration was well done. The only thing that annoyed me was the whiny voice the narrator used for 5 year old Kristen. Fortunately she didn&#8217;t have many lines in the book.This book played out in a predictable manner. Although one thing I have learned from reading Nicholas Sparks is that sometimes he is not predictable and he goes for the heart-break ending. This book did have an unpredictable element to the ending but thankfully it was a touching unpredictable and not a heart-breaking unpredictable.Content: Just a couple of swear words. One of the characters in this book is psycho, I mean seriously crazy. We hear his demented crazy thought process and the details of some of the things he does are described. There are scenes of physical abuse described and a few sex scenes that aren&#8217;t overly graphic but are lewd. Although I can&#8217;t classify this book as clean it wasn&#8217;t nearly as graphic as it could have been. It was well written and I would recommend it to adults who have read this content warning.Rating: 4 Stars. I made it through this book in less than 2 days. Some great writing from Nicholas Sparks.Source: I received an audio version of this book from Hachette.'"
      ]
     },
     "execution_count": 192,
     "metadata": {},
     "output_type": "execute_result"
    }
   ],
   "source": [
    "import json\n",
    "\n",
    "file_name = \".\\Data\\Books_small_10000.json\"\n",
    "\n",
    "reviews = []\n",
    "with open(file_name) as f:\n",
    "    for line in f:\n",
    "        review = json.loads(line)\n",
    "        reviews.append(Review(review[\"reviewText\"], review[\"overall\"]))\n",
    "reviews[2].text\n"
   ]
  },
  {
   "cell_type": "markdown",
   "metadata": {},
   "source": [
    "### Prep data"
   ]
  },
  {
   "cell_type": "code",
   "execution_count": 193,
   "metadata": {},
   "outputs": [],
   "source": [
    "from sklearn.model_selection import train_test_split\n",
    "\n",
    "training, testing = train_test_split(reviews, test_size = 0.1, random_state = 42)\n",
    "\n",
    "train_cont = Review_Container(training)\n",
    "train_cont.evenly_distribute()\n",
    "\n",
    "test_cont = Review_Container(testing)\n",
    "test_cont.evenly_distribute()\n"
   ]
  },
  {
   "cell_type": "code",
   "execution_count": 194,
   "metadata": {},
   "outputs": [],
   "source": [
    "train_x = train_cont.get_text()\n",
    "train_y = train_cont.get_sentiment()\n",
    "\n",
    "test_x = test_cont.get_text()\n",
    "test_y = test_cont.get_sentiment()"
   ]
  },
  {
   "cell_type": "code",
   "execution_count": 195,
   "metadata": {},
   "outputs": [
    {
     "name": "stdout",
     "output_type": "stream",
     "text": [
      "[[0. 0. 0. ... 0. 0. 0.]]\n",
      "[[0. 0. 0. ... 0. 0. 0.]]\n"
     ]
    }
   ],
   "source": [
    "from sklearn.feature_extraction.text import CountVectorizer, TfidfVectorizer\n",
    "\n",
    "vectorizer = TfidfVectorizer()\n",
    "train_x_vectors = vectorizer.fit_transform(train_x)\n",
    "print(train_x_vectors[0].toarray())\n",
    "\n",
    "test_x_vectors = vectorizer.transform(test_x)\n",
    "print(test_x_vectors[0].toarray())"
   ]
  },
  {
   "cell_type": "markdown",
   "metadata": {},
   "source": [
    "### Classification"
   ]
  },
  {
   "cell_type": "markdown",
   "metadata": {},
   "source": [
    "##### Linear SVM"
   ]
  },
  {
   "cell_type": "code",
   "execution_count": 196,
   "metadata": {},
   "outputs": [
    {
     "name": "stdout",
     "output_type": "stream",
     "text": [
      "True sediment:  POSITIVE\n",
      "Prediction:  NEGATIVE\n"
     ]
    }
   ],
   "source": [
    "from sklearn import svm\n",
    "\n",
    "clf_svm = svm.SVC(kernel = \"linear\")\n",
    "\n",
    "clf_svm.fit(train_x_vectors, train_y)\n",
    "\n",
    "print(\"True sediment: \", test_y[0])\n",
    "print(\"Prediction: \", clf_svm.predict(test_x_vectors[0])[0])"
   ]
  },
  {
   "cell_type": "code",
   "execution_count": 197,
   "metadata": {},
   "outputs": [
    {
     "name": "stdout",
     "output_type": "stream",
     "text": [
      "LINEAR SVM:\n",
      "True predictions:  91  out of  112  reviews.\n",
      "Accuracy:  0.8125 \n",
      "\n"
     ]
    }
   ],
   "source": [
    "pred_count_svm = 0\n",
    "pred_svm = clf_svm.predict(test_x_vectors)\n",
    "for index, true_value in enumerate(test_y):\n",
    "    if pred_svm[index] == true_value:\n",
    "        pred_count_svm += 1\n",
    "print(\"LINEAR SVM:\")\n",
    "print(\"True predictions: \", pred_count_svm, \" out of \", len(test_y), \" reviews.\")\n",
    "acc_svm = pred_count_svm/len(test_y)\n",
    "print(\"Accuracy: \", acc_svm, \"\\n\")"
   ]
  },
  {
   "cell_type": "markdown",
   "metadata": {},
   "source": [
    "##### Decision Tree"
   ]
  },
  {
   "cell_type": "code",
   "execution_count": 198,
   "metadata": {},
   "outputs": [
    {
     "name": "stdout",
     "output_type": "stream",
     "text": [
      "True sediment:  POSITIVE\n",
      "Prediction:  POSITIVE\n"
     ]
    }
   ],
   "source": [
    "from sklearn.tree import DecisionTreeClassifier\n",
    "\n",
    "clf_dec = DecisionTreeClassifier()\n",
    "clf_dec.fit(train_x_vectors, train_y)\n",
    "\n",
    "print(\"True sediment: \", test_y[0])\n",
    "print(\"Prediction: \", clf_dec.predict(test_x_vectors[0])[0])"
   ]
  },
  {
   "cell_type": "code",
   "execution_count": 199,
   "metadata": {},
   "outputs": [
    {
     "name": "stdout",
     "output_type": "stream",
     "text": [
      "DECISION TREE:\n",
      "True predictions:  72  out of  112  reviews.\n",
      "Accuracy:  0.6428571428571429 \n",
      "\n"
     ]
    }
   ],
   "source": [
    "pred_count_dec = 0\n",
    "pred_dec = clf_dec.predict(test_x_vectors)\n",
    "for index, true_value in enumerate(test_y):\n",
    "    if pred_dec[index] == true_value:\n",
    "        pred_count_dec += 1\n",
    "print(\"DECISION TREE:\")\n",
    "print(\"True predictions: \", pred_count_dec, \" out of \", len(test_y), \" reviews.\")\n",
    "acc_dec = pred_count_dec/len(test_y)\n",
    "print(\"Accuracy: \", acc_dec, \"\\n\")"
   ]
  },
  {
   "cell_type": "markdown",
   "metadata": {},
   "source": [
    "##### Naive Bayes"
   ]
  },
  {
   "cell_type": "code",
   "execution_count": 200,
   "metadata": {},
   "outputs": [
    {
     "name": "stdout",
     "output_type": "stream",
     "text": [
      "True sediment:  POSITIVE\n",
      "Prediction:  NEGATIVE\n"
     ]
    }
   ],
   "source": [
    "from sklearn.naive_bayes import GaussianNB\n",
    "\n",
    "clf_gnb = GaussianNB()\n",
    "clf_gnb.fit(train_x_vectors.toarray(), train_y)\n",
    "\n",
    "print(\"True sediment: \", test_y[0])\n",
    "print(\"Prediction: \", clf_gnb.predict(test_x_vectors.toarray())[0])"
   ]
  },
  {
   "cell_type": "code",
   "execution_count": 201,
   "metadata": {},
   "outputs": [
    {
     "name": "stdout",
     "output_type": "stream",
     "text": [
      "NAIVE BAYES:\n",
      "True predictions:  78  out of  112  reviews.\n",
      "Accuracy:  0.6964285714285714 \n",
      "\n"
     ]
    }
   ],
   "source": [
    "pred_count_gnb = 0\n",
    "pred_gnb = clf_gnb.predict(test_x_vectors.toarray())\n",
    "for index, true_value in enumerate(test_y):\n",
    "    if pred_gnb[index] == true_value:\n",
    "        pred_count_gnb += 1\n",
    "print(\"NAIVE BAYES:\")\n",
    "print(\"True predictions: \", pred_count_gnb, \" out of \", len(test_y), \" reviews.\")\n",
    "acc_gnb = pred_count_gnb/len(test_y)\n",
    "print(\"Accuracy: \", acc_gnb, \"\\n\")"
   ]
  },
  {
   "cell_type": "markdown",
   "metadata": {},
   "source": [
    "##### Logistic Regression"
   ]
  },
  {
   "cell_type": "code",
   "execution_count": 202,
   "metadata": {},
   "outputs": [
    {
     "name": "stdout",
     "output_type": "stream",
     "text": [
      "True sediment:  POSITIVE\n",
      "Prediction:  NEGATIVE\n"
     ]
    }
   ],
   "source": [
    "from sklearn.linear_model import LogisticRegression\n",
    "\n",
    "clf_logr = LogisticRegression()\n",
    "clf_logr.fit(train_x_vectors, train_y)\n",
    "\n",
    "print(\"True sediment: \", test_y[0])\n",
    "print(\"Prediction: \", clf_logr.predict(test_x_vectors[0])[0])"
   ]
  },
  {
   "cell_type": "code",
   "execution_count": 203,
   "metadata": {},
   "outputs": [
    {
     "name": "stdout",
     "output_type": "stream",
     "text": [
      "LOGISTIC REGRESSION:\n",
      "True predictions:  92  out of  112  reviews.\n",
      "Accuracy:  0.8214285714285714 \n",
      "\n"
     ]
    }
   ],
   "source": [
    "pred_count_logr = 0\n",
    "pred_logr = clf_logr.predict(test_x_vectors)\n",
    "for index, true_value in enumerate(test_y):\n",
    "    if pred_logr[index] == true_value:\n",
    "        pred_count_logr += 1\n",
    "print(\"LOGISTIC REGRESSION:\")\n",
    "print(\"True predictions: \", pred_count_logr, \" out of \", len(test_y), \" reviews.\")\n",
    "acc_logr = pred_count_logr/len(test_y)\n",
    "print(\"Accuracy: \", acc_logr, \"\\n\")"
   ]
  },
  {
   "cell_type": "markdown",
   "metadata": {},
   "source": [
    "### Evaluation"
   ]
  },
  {
   "cell_type": "code",
   "execution_count": 204,
   "metadata": {},
   "outputs": [
    {
     "data": {
      "text/plain": [
       "[Text(0, 0, '81.25'),\n",
       " Text(0, 0, '64.2857'),\n",
       " Text(0, 0, '69.6429'),\n",
       " Text(0, 0, '82.1429')]"
      ]
     },
     "execution_count": 204,
     "metadata": {},
     "output_type": "execute_result"
    },
    {
     "data": {
      "image/png": "[encoded data removed]",
      "text/plain": [
       "<Figure size 432x288 with 1 Axes>"
      ]
     },
     "metadata": {
      "needs_background": "light"
     },
     "output_type": "display_data"
    }
   ],
   "source": [
    "import matplotlib.pyplot as plt\n",
    "\n",
    "fig = plt.figure()\n",
    "ax = fig.add_axes([0,0,1,1])\n",
    "ax.set_title(\"Prediction Accuracy (%)\", fontsize = 24)\n",
    "\n",
    "x_labels = [\"Linear SVM\", \"Decision Tree\", \"Naive Bayes\", \"Logistic Regression\"]\n",
    "y_val = [acc_svm*100, acc_dec*100, acc_gnb*100, acc_logr*100]\n",
    "\n",
    "bars = ax.barh(x_labels, y_val)\n",
    "ax.bar_label(bars)"
   ]
  },
  {
   "cell_type": "code",
   "execution_count": 205,
   "metadata": {},
   "outputs": [
    {
     "name": "stdout",
     "output_type": "stream",
     "text": [
      "LINEAR SVM: 0.8125\n",
      "DECISION TREE: 0.6428571428571429\n",
      "NAIVE BAYES: 0.6964285714285714\n",
      "LOGISTIC REGRESSION: 0.8214285714285714\n"
     ]
    }
   ],
   "source": [
    "# Mean Accuracy\n",
    "\n",
    "print(\"LINEAR SVM:\", clf_svm.score(test_x_vectors, test_y))\n",
    "print(\"DECISION TREE:\", clf_dec.score(test_x_vectors, test_y))\n",
    "print(\"NAIVE BAYES:\", clf_gnb.score(test_x_vectors.toarray(), test_y))\n",
    "print(\"LOGISTIC REGRESSION:\", clf_logr.score(test_x_vectors, test_y))"
   ]
  },
  {
   "cell_type": "code",
   "execution_count": 206,
   "metadata": {},
   "outputs": [
    {
     "name": "stdout",
     "output_type": "stream",
     "text": [
      "LINEAR SVM: [0.81081081 0.81415929]\n",
      "DECISION TREE: [0.62962963 0.65517241]\n",
      "NAIVE BAYES: [0.67924528 0.71186441]\n",
      "LOGISTIC REGRESSION: [0.81818182 0.8245614 ]\n"
     ]
    }
   ],
   "source": [
    "# F1 Scores\n",
    "\n",
    "from sklearn.metrics import f1_score\n",
    "\n",
    "# f1_svm = f1_score(test_y, pred_svm, average=None, labels=[Sentiment.POSITIVE, Sentiment.NEUTRAL, Sentiment.NEGATIVE])\n",
    "# f1_dec = f1_score(test_y, pred_dec, average=None, labels=[Sentiment.POSITIVE, Sentiment.NEUTRAL, Sentiment.NEGATIVE])\n",
    "# f1_gnb = f1_score(test_y, pred_gnb, average=None, labels=[Sentiment.POSITIVE, Sentiment.NEUTRAL, Sentiment.NEGATIVE])\n",
    "# f1_logr = f1_score(test_y, pred_logr, average=None, labels=[Sentiment.POSITIVE, Sentiment.NEUTRAL, Sentiment.NEGATIVE])\n",
    "\n",
    "f1_svm = f1_score(test_y, pred_svm, average=None, labels=[Sentiment.POSITIVE, Sentiment.NEGATIVE])\n",
    "f1_dec = f1_score(test_y, pred_dec, average=None, labels=[Sentiment.POSITIVE, Sentiment.NEGATIVE])\n",
    "f1_gnb = f1_score(test_y, pred_gnb, average=None, labels=[Sentiment.POSITIVE, Sentiment.NEGATIVE])\n",
    "f1_logr = f1_score(test_y, pred_logr, average=None, labels=[Sentiment.POSITIVE, Sentiment.NEGATIVE])\n",
    "\n",
    "\n",
    "\n",
    "print(\"LINEAR SVM:\", f1_svm)\n",
    "print(\"DECISION TREE:\", f1_dec)\n",
    "print(\"NAIVE BAYES:\", f1_gnb)\n",
    "print(\"LOGISTIC REGRESSION:\", f1_logr)"
   ]
  },
  {
   "cell_type": "markdown",
   "metadata": {},
   "source": [
    "### Tuning the model"
   ]
  },
  {
   "cell_type": "markdown",
   "metadata": {},
   "source": [
    "##### Grid Search"
   ]
  },
  {
   "cell_type": "code",
   "execution_count": 207,
   "metadata": {},
   "outputs": [
    {
     "name": "stdout",
     "output_type": "stream",
     "text": [
      "Fitting 5 folds for each of 18 candidates, totalling 90 fits\n",
      "[CV 1/5] END ........C=0.1, gamma=1, kernel=rbf;, score=0.831 total time=   0.4s\n",
      "[CV 2/5] END ........C=0.1, gamma=1, kernel=rbf;, score=0.498 total time=   0.3s\n",
      "[CV 3/5] END ........C=0.1, gamma=1, kernel=rbf;, score=0.498 total time=   0.3s\n",
      "[CV 4/5] END ........C=0.1, gamma=1, kernel=rbf;, score=0.498 total time=   0.3s\n",
      "[CV 5/5] END ........C=0.1, gamma=1, kernel=rbf;, score=0.498 total time=   0.3s\n",
      "[CV 1/5] END .....C=0.1, gamma=1, kernel=linear;, score=0.839 total time=   0.3s\n",
      "[CV 2/5] END .....C=0.1, gamma=1, kernel=linear;, score=0.804 total time=   0.3s\n",
      "[CV 3/5] END .....C=0.1, gamma=1, kernel=linear;, score=0.762 total time=   0.3s\n",
      "[CV 4/5] END .....C=0.1, gamma=1, kernel=linear;, score=0.830 total time=   0.3s\n",
      "[CV 5/5] END .....C=0.1, gamma=1, kernel=linear;, score=0.762 total time=   0.3s\n",
      "[CV 1/5] END ......C=0.1, gamma=0.1, kernel=rbf;, score=0.835 total time=   0.3s\n",
      "[CV 2/5] END ......C=0.1, gamma=0.1, kernel=rbf;, score=0.498 total time=   0.3s\n",
      "[CV 3/5] END ......C=0.1, gamma=0.1, kernel=rbf;, score=0.498 total time=   0.3s\n",
      "[CV 4/5] END ......C=0.1, gamma=0.1, kernel=rbf;, score=0.498 total time=   0.3s\n",
      "[CV 5/5] END ......C=0.1, gamma=0.1, kernel=rbf;, score=0.498 total time=   0.3s\n",
      "[CV 1/5] END ...C=0.1, gamma=0.1, kernel=linear;, score=0.839 total time=   0.3s\n",
      "[CV 2/5] END ...C=0.1, gamma=0.1, kernel=linear;, score=0.804 total time=   0.3s\n",
      "[CV 3/5] END ...C=0.1, gamma=0.1, kernel=linear;, score=0.762 total time=   0.3s\n",
      "[CV 4/5] END ...C=0.1, gamma=0.1, kernel=linear;, score=0.830 total time=   0.3s\n",
      "[CV 5/5] END ...C=0.1, gamma=0.1, kernel=linear;, score=0.762 total time=   0.3s\n",
      "[CV 1/5] END .....C=0.1, gamma=0.01, kernel=rbf;, score=0.835 total time=   0.3s\n",
      "[CV 2/5] END .....C=0.1, gamma=0.01, kernel=rbf;, score=0.498 total time=   0.3s\n",
      "[CV 3/5] END .....C=0.1, gamma=0.01, kernel=rbf;, score=0.498 total time=   0.3s\n",
      "[CV 4/5] END .....C=0.1, gamma=0.01, kernel=rbf;, score=0.498 total time=   0.3s\n",
      "[CV 5/5] END .....C=0.1, gamma=0.01, kernel=rbf;, score=0.498 total time=   0.3s\n",
      "[CV 1/5] END ..C=0.1, gamma=0.01, kernel=linear;, score=0.839 total time=   0.3s\n",
      "[CV 2/5] END ..C=0.1, gamma=0.01, kernel=linear;, score=0.804 total time=   0.3s\n",
      "[CV 3/5] END ..C=0.1, gamma=0.01, kernel=linear;, score=0.762 total time=   0.3s\n",
      "[CV 4/5] END ..C=0.1, gamma=0.01, kernel=linear;, score=0.830 total time=   0.3s\n",
      "[CV 5/5] END ..C=0.1, gamma=0.01, kernel=linear;, score=0.762 total time=   0.3s\n",
      "[CV 1/5] END ..........C=1, gamma=1, kernel=rbf;, score=0.856 total time=   0.3s\n",
      "[CV 2/5] END ..........C=1, gamma=1, kernel=rbf;, score=0.830 total time=   0.3s\n",
      "[CV 3/5] END ..........C=1, gamma=1, kernel=rbf;, score=0.851 total time=   0.3s\n",
      "[CV 4/5] END ..........C=1, gamma=1, kernel=rbf;, score=0.855 total time=   0.3s\n",
      "[CV 5/5] END ..........C=1, gamma=1, kernel=rbf;, score=0.813 total time=   0.3s\n",
      "[CV 1/5] END .......C=1, gamma=1, kernel=linear;, score=0.873 total time=   0.2s\n",
      "[CV 2/5] END .......C=1, gamma=1, kernel=linear;, score=0.813 total time=   0.2s\n",
      "[CV 3/5] END .......C=1, gamma=1, kernel=linear;, score=0.855 total time=   0.2s\n",
      "[CV 4/5] END .......C=1, gamma=1, kernel=linear;, score=0.855 total time=   0.2s\n",
      "[CV 5/5] END .......C=1, gamma=1, kernel=linear;, score=0.826 total time=   0.2s\n",
      "[CV 1/5] END ........C=1, gamma=0.1, kernel=rbf;, score=0.852 total time=   0.3s\n",
      "[CV 2/5] END ........C=1, gamma=0.1, kernel=rbf;, score=0.809 total time=   0.3s\n",
      "[CV 3/5] END ........C=1, gamma=0.1, kernel=rbf;, score=0.851 total time=   0.3s\n",
      "[CV 4/5] END ........C=1, gamma=0.1, kernel=rbf;, score=0.838 total time=   0.3s\n",
      "[CV 5/5] END ........C=1, gamma=0.1, kernel=rbf;, score=0.779 total time=   0.3s\n",
      "[CV 1/5] END .....C=1, gamma=0.1, kernel=linear;, score=0.873 total time=   0.2s\n",
      "[CV 2/5] END .....C=1, gamma=0.1, kernel=linear;, score=0.813 total time=   0.2s\n",
      "[CV 3/5] END .....C=1, gamma=0.1, kernel=linear;, score=0.855 total time=   0.2s\n",
      "[CV 4/5] END .....C=1, gamma=0.1, kernel=linear;, score=0.855 total time=   0.2s\n",
      "[CV 5/5] END .....C=1, gamma=0.1, kernel=linear;, score=0.826 total time=   0.2s\n",
      "[CV 1/5] END .......C=1, gamma=0.01, kernel=rbf;, score=0.835 total time=   0.3s\n",
      "[CV 2/5] END .......C=1, gamma=0.01, kernel=rbf;, score=0.498 total time=   0.3s\n",
      "[CV 3/5] END .......C=1, gamma=0.01, kernel=rbf;, score=0.498 total time=   0.3s\n",
      "[CV 4/5] END .......C=1, gamma=0.01, kernel=rbf;, score=0.498 total time=   0.3s\n",
      "[CV 5/5] END .......C=1, gamma=0.01, kernel=rbf;, score=0.498 total time=   0.3s\n",
      "[CV 1/5] END ....C=1, gamma=0.01, kernel=linear;, score=0.873 total time=   0.2s\n",
      "[CV 2/5] END ....C=1, gamma=0.01, kernel=linear;, score=0.813 total time=   0.2s\n",
      "[CV 3/5] END ....C=1, gamma=0.01, kernel=linear;, score=0.855 total time=   0.2s\n",
      "[CV 4/5] END ....C=1, gamma=0.01, kernel=linear;, score=0.855 total time=   0.2s\n",
      "[CV 5/5] END ....C=1, gamma=0.01, kernel=linear;, score=0.826 total time=   0.2s\n",
      "[CV 1/5] END .........C=10, gamma=1, kernel=rbf;, score=0.856 total time=   0.3s\n",
      "[CV 2/5] END .........C=10, gamma=1, kernel=rbf;, score=0.830 total time=   0.3s\n",
      "[CV 3/5] END .........C=10, gamma=1, kernel=rbf;, score=0.843 total time=   0.3s\n",
      "[CV 4/5] END .........C=10, gamma=1, kernel=rbf;, score=0.847 total time=   0.3s\n",
      "[CV 5/5] END .........C=10, gamma=1, kernel=rbf;, score=0.821 total time=   0.3s\n",
      "[CV 1/5] END ......C=10, gamma=1, kernel=linear;, score=0.869 total time=   0.3s\n",
      "[CV 2/5] END ......C=10, gamma=1, kernel=linear;, score=0.809 total time=   0.3s\n",
      "[CV 3/5] END ......C=10, gamma=1, kernel=linear;, score=0.851 total time=   0.3s\n",
      "[CV 4/5] END ......C=10, gamma=1, kernel=linear;, score=0.834 total time=   0.3s\n",
      "[CV 5/5] END ......C=10, gamma=1, kernel=linear;, score=0.834 total time=   0.3s\n",
      "[CV 1/5] END .......C=10, gamma=0.1, kernel=rbf;, score=0.864 total time=   0.3s\n",
      "[CV 2/5] END .......C=10, gamma=0.1, kernel=rbf;, score=0.809 total time=   0.3s\n",
      "[CV 3/5] END .......C=10, gamma=0.1, kernel=rbf;, score=0.860 total time=   0.3s\n",
      "[CV 4/5] END .......C=10, gamma=0.1, kernel=rbf;, score=0.843 total time=   0.3s\n",
      "[CV 5/5] END .......C=10, gamma=0.1, kernel=rbf;, score=0.838 total time=   0.3s\n",
      "[CV 1/5] END ....C=10, gamma=0.1, kernel=linear;, score=0.869 total time=   0.3s\n",
      "[CV 2/5] END ....C=10, gamma=0.1, kernel=linear;, score=0.809 total time=   0.3s\n",
      "[CV 3/5] END ....C=10, gamma=0.1, kernel=linear;, score=0.851 total time=   0.3s\n",
      "[CV 4/5] END ....C=10, gamma=0.1, kernel=linear;, score=0.834 total time=   0.3s\n",
      "[CV 5/5] END ....C=10, gamma=0.1, kernel=linear;, score=0.834 total time=   0.3s\n",
      "[CV 1/5] END ......C=10, gamma=0.01, kernel=rbf;, score=0.856 total time=   0.3s\n",
      "[CV 2/5] END ......C=10, gamma=0.01, kernel=rbf;, score=0.813 total time=   0.3s\n",
      "[CV 3/5] END ......C=10, gamma=0.01, kernel=rbf;, score=0.843 total time=   0.3s\n",
      "[CV 4/5] END ......C=10, gamma=0.01, kernel=rbf;, score=0.838 total time=   0.3s\n",
      "[CV 5/5] END ......C=10, gamma=0.01, kernel=rbf;, score=0.796 total time=   0.3s\n",
      "[CV 1/5] END ...C=10, gamma=0.01, kernel=linear;, score=0.869 total time=   0.3s\n",
      "[CV 2/5] END ...C=10, gamma=0.01, kernel=linear;, score=0.809 total time=   0.3s\n",
      "[CV 3/5] END ...C=10, gamma=0.01, kernel=linear;, score=0.851 total time=   0.3s\n",
      "[CV 4/5] END ...C=10, gamma=0.01, kernel=linear;, score=0.834 total time=   0.3s\n",
      "[CV 5/5] END ...C=10, gamma=0.01, kernel=linear;, score=0.834 total time=   0.3s\n"
     ]
    },
    {
     "data": {
      "text/plain": [
       "GridSearchCV(cv=5, estimator=SVC(),\n",
       "             param_grid={'C': [0.1, 1, 10], 'gamma': [1, 0.1, 0.01],\n",
       "                         'kernel': ['rbf', 'linear']},\n",
       "             verbose=3)"
      ]
     },
     "execution_count": 207,
     "metadata": {},
     "output_type": "execute_result"
    }
   ],
   "source": [
    "from sklearn.model_selection import GridSearchCV\n",
    "\n",
    "svm_parameters = {'C': [0.1, 1, 10],\n",
    "              'gamma': [1, 0.1, 0.01],\n",
    "              'kernel': ['rbf', 'linear']}\n",
    "\n",
    "gs_svm = GridSearchCV(svm.SVC(), svm_parameters, refit = True, verbose = 3, cv = 5)\n",
    "gs_svm.fit(train_x_vectors, train_y)"
   ]
  },
  {
   "cell_type": "code",
   "execution_count": 208,
   "metadata": {},
   "outputs": [
    {
     "name": "stdout",
     "output_type": "stream",
     "text": [
      "{'C': 1, 'gamma': 1, 'kernel': 'linear'}\n"
     ]
    }
   ],
   "source": [
    "print(gs_svm.best_params_)"
   ]
  },
  {
   "cell_type": "code",
   "execution_count": 209,
   "metadata": {},
   "outputs": [
    {
     "name": "stdout",
     "output_type": "stream",
     "text": [
      "GRID SEARCHED LINEAR SVM: 0.8125\n"
     ]
    }
   ],
   "source": [
    "print(\"GRID SEARCHED LINEAR SVM:\", gs_svm.score(test_x_vectors, test_y))"
   ]
  }
 ],
 "metadata": {
  "interpreter": {
   "hash": "a6ee3df190db0cf4ce9d66d444f586cbb95e12f7ba56dc797574d97011af8020"
  },
  "kernelspec": {
   "display_name": "Python 3.9.7 ('base')",
   "language": "python",
   "name": "python3"
  },
  "language_info": {
   "codemirror_mode": {
    "name": "ipython",
    "version": 3
   },
   "file_extension": ".py",
   "mimetype": "text/x-python",
   "name": "python",
   "nbconvert_exporter": "python",
   "pygments_lexer": "ipython3",
   "version": "3.9.7"
  },
  "orig_nbformat": 4
 },
 "nbformat": 4,
 "nbformat_minor": 2
}
